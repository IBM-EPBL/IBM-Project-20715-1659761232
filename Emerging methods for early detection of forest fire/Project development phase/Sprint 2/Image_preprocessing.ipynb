{
  "nbformat": 4,
  "nbformat_minor": 0,
  "metadata": {
    "colab": {
      "provenance": []
    },
    "kernelspec": {
      "name": "python3",
      "display_name": "Python 3"
    },
    "language_info": {
      "name": "python"
    }
  },
  "cells": [
    {
      "cell_type": "markdown",
      "source": [
        "**Sprint 2**\n",
        "\n",
        "\n",
        "1.   **Team id: PNT2022TMID49509**\n",
        "2.   **Date:04/11/2022**\n",
        "\n",
        "\n"
      ],
      "metadata": {
        "id": "A-VIZUP2oCaC"
      }
    },
    {
      "cell_type": "markdown",
      "source": [
        "**Load the image dataset**"
      ],
      "metadata": {
        "id": "3INKtzXNpADf"
      }
    },
    {
      "cell_type": "code",
      "execution_count": 1,
      "metadata": {
        "colab": {
          "base_uri": "https://localhost:8080/",
          "height": 35
        },
        "id": "ls87KWzTjPXE",
        "outputId": "9339b1ce-c85f-4820-c1c0-e8ab25a7ba2d"
      },
      "outputs": [
        {
          "output_type": "execute_result",
          "data": {
            "text/plain": [
              "'/content'"
            ],
            "application/vnd.google.colaboratory.intrinsic+json": {
              "type": "string"
            }
          },
          "metadata": {},
          "execution_count": 1
        }
      ],
      "source": [
        "pwd"
      ]
    },
    {
      "cell_type": "code",
      "source": [
        "ls"
      ],
      "metadata": {
        "colab": {
          "base_uri": "https://localhost:8080/"
        },
        "id": "bY_BOmoPjm1g",
        "outputId": "3195e79f-c12a-4f79-86cd-ea1397e3320b"
      },
      "execution_count": 2,
      "outputs": [
        {
          "output_type": "stream",
          "name": "stdout",
          "text": [
            "archive.zip  \u001b[0m\u001b[01;34mdrive\u001b[0m/  \u001b[01;34msample_data\u001b[0m/\n"
          ]
        }
      ]
    },
    {
      "cell_type": "code",
      "source": [
        "from google.colab import drive\n",
        "drive.mount ('/content/drive')"
      ],
      "metadata": {
        "colab": {
          "base_uri": "https://localhost:8080/"
        },
        "id": "QTiq-3QM5zAs",
        "outputId": "6096930a-3a10-4d7a-b06d-052e4fee4198"
      },
      "execution_count": 3,
      "outputs": [
        {
          "output_type": "stream",
          "name": "stdout",
          "text": [
            "Drive already mounted at /content/drive; to attempt to forcibly remount, call drive.mount(\"/content/drive\", force_remount=True).\n"
          ]
        }
      ]
    },
    {
      "cell_type": "markdown",
      "source": [
        "**Unzip the folder**"
      ],
      "metadata": {
        "id": "FliQCzrFolIv"
      }
    },
    {
      "cell_type": "code",
      "source": [
        "cd /content/drive/MyDrive"
      ],
      "metadata": {
        "colab": {
          "base_uri": "https://localhost:8080/"
        },
        "id": "MNAUnnPqkA8E",
        "outputId": "05ca4b76-37ad-4de0-92fc-99e1a736876e"
      },
      "execution_count": 4,
      "outputs": [
        {
          "output_type": "stream",
          "name": "stdout",
          "text": [
            "/content/drive/MyDrive\n"
          ]
        }
      ]
    },
    {
      "cell_type": "code",
      "source": [
        "!unzip archive.zip"
      ],
      "metadata": {
        "colab": {
          "base_uri": "https://localhost:8080/"
        },
        "id": "YKG21UookDvL",
        "outputId": "6b6ba956-1a34-4601-e37c-86494fdb7bc8"
      },
      "execution_count": 5,
      "outputs": [
        {
          "output_type": "stream",
          "name": "stdout",
          "text": [
            "Archive:  archive.zip\n",
            "replace Dataset/Dataset/test_set/forest/0.48007200_1530881924_final_forest.jpg? [y]es, [n]o, [A]ll, [N]one, [r]ename: "
          ]
        }
      ]
    },
    {
      "cell_type": "code",
      "source": [
        "ls"
      ],
      "metadata": {
        "colab": {
          "base_uri": "https://localhost:8080/"
        },
        "id": "RJOhlyLFkZVB",
        "outputId": "5459d27d-f0af-49b2-c921-726556a3fb30"
      },
      "execution_count": 6,
      "outputs": [
        {
          "output_type": "stream",
          "name": "stdout",
          "text": [
            " 15979035716122185371021309633026.jpg\n",
            " 159790438188243397610363976212.jpg\n",
            " 16437945324147097429825740046251.jpg\n",
            " 16443855388963712007619102989142.jpg\n",
            " 16451803017876368810357197584515.jpg\n",
            " Animal_Dataset.zip\n",
            " archive.zip\n",
            "\"Ashwini CS assignment.pdf'.pdf\"\n",
            "'Ashwini - DC(Shannon fano coding).pdf'\n",
            "\"Ashwini.DS assignment.pdf'.pdf\"\n",
            "'Ashwini - DTSP(18_01_2022).pdf'\n",
            "\"Ashwini maths assignment 2.pdf'.pdf\"\n",
            " Ashwini.pdf\n",
            "\"Ashwini.pdf'.pdf\"\n",
            " \u001b[0m\u001b[01;34mClassroom\u001b[0m/\n",
            " \u001b[01;34mClearScannerData\u001b[0m/\n",
            "\u001b[01;34m'Colab Notebooks'\u001b[0m/\n",
            "'CYBER SECURITY.pptx'\n",
            "'Data flow diagram.gdoc'\n",
            " \u001b[01;34mdataset\u001b[0m/\n",
            " \u001b[01;34mDataset\u001b[0m/\n",
            " doc.pdf\n",
            "'DTSP - class test.pdf'\n",
            "'Emerging methods for early detection of forest fire using artificial intelligence.pdf'\n",
            "'FIRE PREDICTION MODEL.ipynb'\n",
            " \u001b[01;34mFlower1\u001b[0m/\n",
            " Flowers-Dataset-1.zip\n",
            " forest1.h5\n",
            " IMG20220217103143.jpg\n",
            " IMG20220222102500.jpg\n",
            " IMG20220305101338.jpg\n",
            " model_training_and_saving.ipynb\n",
            "'NSIC- INTERNSHIP & IPT ONLINE REG FORM-2022.doc'\n",
            " pen-yen-adimaiyanal.pdf\n",
            "'Semester results (1).gform'\n",
            "'Semester results.gform'\n",
            "'Untitled form (1).gform'\n",
            "'Untitled form.gform'\n"
          ]
        }
      ]
    },
    {
      "cell_type": "code",
      "source": [
        "pwd"
      ],
      "metadata": {
        "colab": {
          "base_uri": "https://localhost:8080/",
          "height": 35
        },
        "id": "wQRVyTPJkgPn",
        "outputId": "628718d2-7b54-4099-fdc0-ae346c234cb6"
      },
      "execution_count": 7,
      "outputs": [
        {
          "output_type": "execute_result",
          "data": {
            "text/plain": [
              "'/content/drive/MyDrive'"
            ],
            "application/vnd.google.colaboratory.intrinsic+json": {
              "type": "string"
            }
          },
          "metadata": {},
          "execution_count": 7
        }
      ]
    },
    {
      "cell_type": "markdown",
      "source": [
        "**Image augmentation**"
      ],
      "metadata": {
        "id": "85etRgm7otXz"
      }
    },
    {
      "cell_type": "code",
      "source": [
        "from tensorflow.keras.preprocessing.image import ImageDataGenerator"
      ],
      "metadata": {
        "id": "A2_aiD7rkl7P"
      },
      "execution_count": 8,
      "outputs": []
    },
    {
      "cell_type": "code",
      "source": [
        "train_datagen=ImageDataGenerator(rescale=1./255,zoom_range=0.2,horizontal_flip=True,vertical_flip=False)"
      ],
      "metadata": {
        "id": "ot-c8LOmkqpW"
      },
      "execution_count": 9,
      "outputs": []
    },
    {
      "cell_type": "code",
      "source": [
        "test_datagen=ImageDataGenerator(rescale=1./255)"
      ],
      "metadata": {
        "id": "pTMLPR_VkuRO"
      },
      "execution_count": 10,
      "outputs": []
    },
    {
      "cell_type": "code",
      "source": [
        "ls"
      ],
      "metadata": {
        "colab": {
          "base_uri": "https://localhost:8080/"
        },
        "id": "5RFIK2Arkw-g",
        "outputId": "9fa1b24c-4a80-4585-b506-16b3173e2ea7"
      },
      "execution_count": 11,
      "outputs": [
        {
          "output_type": "stream",
          "name": "stdout",
          "text": [
            " 15979035716122185371021309633026.jpg\n",
            " 159790438188243397610363976212.jpg\n",
            " 16437945324147097429825740046251.jpg\n",
            " 16443855388963712007619102989142.jpg\n",
            " 16451803017876368810357197584515.jpg\n",
            " Animal_Dataset.zip\n",
            " archive.zip\n",
            "\"Ashwini CS assignment.pdf'.pdf\"\n",
            "'Ashwini - DC(Shannon fano coding).pdf'\n",
            "\"Ashwini.DS assignment.pdf'.pdf\"\n",
            "'Ashwini - DTSP(18_01_2022).pdf'\n",
            "\"Ashwini maths assignment 2.pdf'.pdf\"\n",
            " Ashwini.pdf\n",
            "\"Ashwini.pdf'.pdf\"\n",
            " \u001b[0m\u001b[01;34mClassroom\u001b[0m/\n",
            " \u001b[01;34mClearScannerData\u001b[0m/\n",
            "\u001b[01;34m'Colab Notebooks'\u001b[0m/\n",
            "'CYBER SECURITY.pptx'\n",
            "'Data flow diagram.gdoc'\n",
            " \u001b[01;34mdataset\u001b[0m/\n",
            " \u001b[01;34mDataset\u001b[0m/\n",
            " doc.pdf\n",
            "'DTSP - class test.pdf'\n",
            "'Emerging methods for early detection of forest fire using artificial intelligence.pdf'\n",
            "'FIRE PREDICTION MODEL.ipynb'\n",
            " \u001b[01;34mFlower1\u001b[0m/\n",
            " Flowers-Dataset-1.zip\n",
            " forest1.h5\n",
            " IMG20220217103143.jpg\n",
            " IMG20220222102500.jpg\n",
            " IMG20220305101338.jpg\n",
            " model_training_and_saving.ipynb\n",
            "'NSIC- INTERNSHIP & IPT ONLINE REG FORM-2022.doc'\n",
            " pen-yen-adimaiyanal.pdf\n",
            "'Semester results (1).gform'\n",
            "'Semester results.gform'\n",
            "'Untitled form (1).gform'\n",
            "'Untitled form.gform'\n"
          ]
        }
      ]
    },
    {
      "cell_type": "code",
      "source": [
        "pwd"
      ],
      "metadata": {
        "colab": {
          "base_uri": "https://localhost:8080/",
          "height": 35
        },
        "id": "CYC-b-YZk0Yd",
        "outputId": "74ad8cbf-da7b-49b2-cccb-ce458beb4ea2"
      },
      "execution_count": 12,
      "outputs": [
        {
          "output_type": "execute_result",
          "data": {
            "text/plain": [
              "'/content/drive/MyDrive'"
            ],
            "application/vnd.google.colaboratory.intrinsic+json": {
              "type": "string"
            }
          },
          "metadata": {},
          "execution_count": 12
        }
      ]
    },
    {
      "cell_type": "code",
      "source": [
        "x_train=train_datagen.flow_from_directory(r\"/content/drive/MyDrive/Dataset/Dataset/train_set\",target_size=(64,64),\n",
        "                                          class_mode='categorical',batch_size=24)"
      ],
      "metadata": {
        "colab": {
          "base_uri": "https://localhost:8080/"
        },
        "id": "7s8dSfXfk2sV",
        "outputId": "f52c5da4-12d2-4dc1-fd3a-4074b5efe414"
      },
      "execution_count": 15,
      "outputs": [
        {
          "output_type": "stream",
          "name": "stdout",
          "text": [
            "Found 436 images belonging to 2 classes.\n"
          ]
        }
      ]
    },
    {
      "cell_type": "code",
      "source": [
        "x_test=test_datagen.flow_from_directory(r\"/content/drive/MyDrive/Dataset/Dataset/test_set\",target_size=(64,64),\n",
        "                                          class_mode='categorical',batch_size=24)"
      ],
      "metadata": {
        "colab": {
          "base_uri": "https://localhost:8080/"
        },
        "id": "-xHEFZVpn0VU",
        "outputId": "093ad24b-b549-461e-a8c8-9b1bca7ba467"
      },
      "execution_count": 16,
      "outputs": [
        {
          "output_type": "stream",
          "name": "stdout",
          "text": [
            "Found 121 images belonging to 2 classes.\n"
          ]
        }
      ]
    }
  ]
}